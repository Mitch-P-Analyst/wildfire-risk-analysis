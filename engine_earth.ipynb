{
 "cells": [
  {
   "cell_type": "markdown",
   "id": "981d59f4",
   "metadata": {},
   "source": [
    "# Engine Earth\n",
    "\n",
    "## Google Earth Engine (GEE)"
   ]
  },
  {
   "cell_type": "code",
   "execution_count": 31,
   "id": "8225347b",
   "metadata": {},
   "outputs": [
    {
     "data": {
      "text/html": [
       "\n",
       "            <style>\n",
       "                .geemap-dark {\n",
       "                    --jp-widgets-color: white;\n",
       "                    --jp-widgets-label-color: white;\n",
       "                    --jp-ui-font-color1: white;\n",
       "                    --jp-layout-color2: #454545;\n",
       "                    background-color: #383838;\n",
       "                }\n",
       "\n",
       "                .geemap-dark .jupyter-button {\n",
       "                    --jp-layout-color3: #383838;\n",
       "                }\n",
       "\n",
       "                .geemap-colab {\n",
       "                    background-color: var(--colab-primary-surface-color, white);\n",
       "                }\n",
       "\n",
       "                .geemap-colab .jupyter-button {\n",
       "                    --jp-layout-color3: var(--colab-primary-surface-color, white);\n",
       "                }\n",
       "            </style>\n",
       "            "
      ],
      "text/plain": [
       "<IPython.core.display.HTML object>"
      ]
     },
     "metadata": {},
     "output_type": "display_data"
    },
    {
     "name": "stdout",
     "output_type": "stream",
     "text": [
      "Earth Engine is ready!\n"
     ]
    }
   ],
   "source": [
    "import ee\n",
    "ee.Initialize()\n",
    "\n",
    "print(\"Earth Engine is ready!\")"
   ]
  },
  {
   "cell_type": "code",
   "execution_count": 41,
   "id": "0ec72716",
   "metadata": {
    "scrolled": true
   },
   "outputs": [
    {
     "data": {
      "text/html": [
       "\n",
       "            <style>\n",
       "                .geemap-dark {\n",
       "                    --jp-widgets-color: white;\n",
       "                    --jp-widgets-label-color: white;\n",
       "                    --jp-ui-font-color1: white;\n",
       "                    --jp-layout-color2: #454545;\n",
       "                    background-color: #383838;\n",
       "                }\n",
       "\n",
       "                .geemap-dark .jupyter-button {\n",
       "                    --jp-layout-color3: #383838;\n",
       "                }\n",
       "\n",
       "                .geemap-colab {\n",
       "                    background-color: var(--colab-primary-surface-color, white);\n",
       "                }\n",
       "\n",
       "                .geemap-colab .jupyter-button {\n",
       "                    --jp-layout-color3: var(--colab-primary-surface-color, white);\n",
       "                }\n",
       "            </style>\n",
       "            "
      ],
      "text/plain": [
       "<IPython.core.display.HTML object>"
      ]
     },
     "metadata": {},
     "output_type": "display_data"
    },
    {
     "data": {
      "application/vnd.jupyter.widget-view+json": {
       "model_id": "aa9291a41cb841d48de143d85e7feaac",
       "version_major": 2,
       "version_minor": 0
      },
      "text/plain": [
       "Map(center=[48.903315476891706, -123.64999999999995], controls=(WidgetControl(options=['position', 'transparen…"
      ]
     },
     "execution_count": 41,
     "metadata": {},
     "output_type": "execute_result"
    }
   ],
   "source": [
    "# Area of interest\n",
    "aoi = ee.Geometry.Rectangle([-124.8, 48.3, -122.5, 49.5])\n",
    "\n",
    "# Example NDVI dataset\n",
    "image = ee.ImageCollection(\"MODIS/061/MOD13A2\") \\\n",
    "    .filterBounds(aoi) \\\n",
    "    .filterDate('2021-01-01', '2021-12-31') \\\n",
    "    .select('NDVI') \\\n",
    "    .mean()\n",
    "\n",
    "# Filter the image collection\n",
    "fires_col = ee.ImageCollection(\"NASA/LANCE/NOAA20_VIIRS/C2\") \\\n",
    "    .filterDate('2021-01-01', '2021-12-31') \\\n",
    "    .filterBounds(aoi)\n",
    "\n",
    "# Reduce to mean fire radiative power\n",
    "fires = fires_col.select('Power').mean()\n",
    "\n",
    "# Visualisation parameters\n",
    "fire_viz = {\n",
    "    'min': 0,\n",
    "    'max': 500,\n",
    "    'palette': ['white', 'red', 'orange']\n",
    "}\n",
    "\n",
    "# Map visualisation\n",
    "import geemap\n",
    "Map = geemap.Map()\n",
    "Map.centerObject(aoi, 8)\n",
    "Map.addLayer(fires, fire_viz, 'FIRMS Power 2021')\n",
    "Map.addLayer(image, {'min': 0, 'max': 9000, 'palette': ['white', 'green']}, 'NDVI 2021')\n",
    "Map\n",
    "\n"
   ]
  },
  {
   "cell_type": "code",
   "execution_count": 34,
   "id": "913739ef-a19c-4ead-8d69-d63e6999e501",
   "metadata": {},
   "outputs": [
    {
     "data": {
      "text/html": [
       "\n",
       "            <style>\n",
       "                .geemap-dark {\n",
       "                    --jp-widgets-color: white;\n",
       "                    --jp-widgets-label-color: white;\n",
       "                    --jp-ui-font-color1: white;\n",
       "                    --jp-layout-color2: #454545;\n",
       "                    background-color: #383838;\n",
       "                }\n",
       "\n",
       "                .geemap-dark .jupyter-button {\n",
       "                    --jp-layout-color3: #383838;\n",
       "                }\n",
       "\n",
       "                .geemap-colab {\n",
       "                    background-color: var(--colab-primary-surface-color, white);\n",
       "                }\n",
       "\n",
       "                .geemap-colab .jupyter-button {\n",
       "                    --jp-layout-color3: var(--colab-primary-surface-color, white);\n",
       "                }\n",
       "            </style>\n",
       "            "
      ],
      "text/plain": [
       "<IPython.core.display.HTML object>"
      ]
     },
     "metadata": {},
     "output_type": "display_data"
    },
    {
     "ename": "AttributeError",
     "evalue": "'Image' object has no attribute 'size'",
     "output_type": "error",
     "traceback": [
      "\u001b[0;31m---------------------------------------------------------------------------\u001b[0m",
      "\u001b[0;31mAttributeError\u001b[0m                            Traceback (most recent call last)",
      "Cell \u001b[0;32mIn[34], line 1\u001b[0m\n\u001b[0;32m----> 1\u001b[0m \u001b[43mfires\u001b[49m\u001b[38;5;241;43m.\u001b[39;49m\u001b[43msize\u001b[49m()\u001b[38;5;241m.\u001b[39mgetInfo()  \u001b[38;5;66;03m# For number of images in the collection\u001b[39;00m\n\u001b[1;32m      2\u001b[0m fires\u001b[38;5;241m.\u001b[39maggregate_stats(\u001b[38;5;124m'\u001b[39m\u001b[38;5;124mFRP\u001b[39m\u001b[38;5;124m'\u001b[39m)\u001b[38;5;241m.\u001b[39mgetInfo()\n",
      "\u001b[0;31mAttributeError\u001b[0m: 'Image' object has no attribute 'size'"
     ]
    }
   ],
   "source": [
    "fires.size().getInfo()  # For number of images in the collection\n",
    "fires.aggregate_stats('FRP').getInfo()  # Fire Radiative Power stats"
   ]
  },
  {
   "cell_type": "code",
   "execution_count": null,
   "id": "db323c4b-d742-4fa7-828b-dfe6848e9433",
   "metadata": {},
   "outputs": [],
   "source": []
  }
 ],
 "metadata": {
  "kernelspec": {
   "display_name": "MLenv3.10 (PyTorch)",
   "language": "python",
   "name": "mlenv3.10"
  },
  "language_info": {
   "codemirror_mode": {
    "name": "ipython",
    "version": 3
   },
   "file_extension": ".py",
   "mimetype": "text/x-python",
   "name": "python",
   "nbconvert_exporter": "python",
   "pygments_lexer": "ipython3",
   "version": "3.10.14"
  }
 },
 "nbformat": 4,
 "nbformat_minor": 5
}
