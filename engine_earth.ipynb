{
 "cells": [
  {
   "cell_type": "markdown",
   "id": "981d59f4",
   "metadata": {},
   "source": [
    "# Engine Earth\n",
    "\n",
    "## Google Earth Engine (GEE)"
   ]
  },
  {
   "cell_type": "code",
   "execution_count": null,
   "id": "8225347b",
   "metadata": {},
   "outputs": [
    {
     "name": "stdout",
     "output_type": "stream",
     "text": [
      "Earth Engine is ready!\n"
     ]
    }
   ],
   "source": [
    "import ee\n",
    "ee.Initialize()\n",
    "\n",
    "print(\"Earth Engine is ready!\")"
   ]
  },
  {
   "cell_type": "code",
   "execution_count": null,
   "id": "0ec72716",
   "metadata": {},
   "outputs": [
    {
     "data": {
      "application/vnd.jupyter.widget-view+json": {
       "model_id": "1b51a91ddb314976a1f1baaaafd8ebb8",
       "version_major": 2,
       "version_minor": 0
      },
      "text/plain": [
       "Map(center=[48.903315476891706, -123.64999999999995], controls=(WidgetControl(options=['position', 'transparen…"
      ]
     },
     "execution_count": 6,
     "metadata": {},
     "output_type": "execute_result"
    }
   ],
   "source": [
    "# Area of interest\n",
    "aoi = ee.Geometry.Rectangle([-124.8, 48.3, -122.5, 49.5])\n",
    "\n",
    "# Example NDVI dataset\n",
    "image = ee.ImageCollection(\"MODIS/006/MOD13A2\") \\\n",
    "    .filterBounds(aoi) \\\n",
    "    .filterDate('2021-01-01', '2021-12-31') \\\n",
    "    .select('NDVI') \\\n",
    "    .mean()\n",
    "\n",
    "# Visualise NDVI\n",
    "import geemap\n",
    "Map = geemap.Map()\n",
    "Map.centerObject(aoi, 8)\n",
    "Map.addLayer(image, {'min': 0, 'max': 9000, 'palette': ['white', 'green']}, 'NDVI 2021')\n",
    "Map\n"
   ]
  },
  {
   "cell_type": "code",
   "execution_count": null,
   "id": "a3eedc7b",
   "metadata": {},
   "outputs": [],
   "source": [
    "Map.to_html(\"ndvi_map.html\")\n"
   ]
  },
  {
   "cell_type": "code",
   "execution_count": null,
   "id": "22e852e8",
   "metadata": {},
   "outputs": [],
   "source": []
  }
 ],
 "metadata": {
  "kernelspec": {
   "display_name": "MLenv3.10 (PyTorch)",
   "language": "python",
   "name": "mlenv3.10"
  },
  "language_info": {
   "codemirror_mode": {
    "name": "ipython",
    "version": 3
   },
   "file_extension": ".py",
   "mimetype": "text/x-python",
   "name": "python",
   "nbconvert_exporter": "python",
   "pygments_lexer": "ipython3",
   "version": "3.10.18"
  }
 },
 "nbformat": 4,
 "nbformat_minor": 5
}
